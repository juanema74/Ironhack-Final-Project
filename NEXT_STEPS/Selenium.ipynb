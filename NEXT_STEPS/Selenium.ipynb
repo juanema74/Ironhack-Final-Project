{
 "cells": [
  {
   "cell_type": "markdown",
   "metadata": {},
   "source": [
    "## Driver"
   ]
  },
  {
   "cell_type": "code",
   "execution_count": 1,
   "metadata": {},
   "outputs": [
    {
     "data": {
      "text/plain": [
       "'/opt/miniconda3/envs/ironhack_env/bin:/opt/miniconda3/condabin:/usr/local/bin:/usr/bin:/bin:/usr/sbin:/sbin:/Users/juandediegosuanzes/Desktop/Ironhack-Final-Project/notebooks/drivers'"
      ]
     },
     "execution_count": 1,
     "metadata": {},
     "output_type": "execute_result"
    }
   ],
   "source": [
    "import os\n",
    "\n",
    "os.environ['PATH'] = f'{os.environ[\"PATH\"]}:{os.getcwd()}/drivers'\n",
    "    \n",
    "os.environ['PATH']"
   ]
  },
  {
   "cell_type": "markdown",
   "metadata": {},
   "source": [
    "## Run"
   ]
  },
  {
   "cell_type": "code",
   "execution_count": 2,
   "metadata": {},
   "outputs": [],
   "source": [
    "from selenium import webdriver\n",
    "from selenium.webdriver.common.keys import Keys"
   ]
  },
  {
   "cell_type": "code",
   "execution_count": 4,
   "metadata": {},
   "outputs": [],
   "source": [
    "driver = webdriver.Firefox()\n",
    "driver.get('https://www.pccomponentes.com/televisores')"
   ]
  },
  {
   "cell_type": "code",
   "execution_count": 4,
   "metadata": {},
   "outputs": [],
   "source": [
    "# it is a good idea to close the browser to avoid RAM run out\n",
    "#driver.close()"
   ]
  },
  {
   "cell_type": "code",
   "execution_count": 5,
   "metadata": {},
   "outputs": [],
   "source": [
    "# close cookies\n",
    "cookies_button = driver.find_element_by_class_name('notificacion-cookies')\n",
    "\n",
    "cookies_button.click()\n"
   ]
  },
  {
   "cell_type": "code",
   "execution_count": 5,
   "metadata": {},
   "outputs": [],
   "source": [
    "# click.tv\n",
    "tv_button = driver.find_element_by_id('articleListContent')\n",
    "#tv_button = driver.find_element_by_css_selector('GTM-productClick enlace-superpuesto cy-product-hover-link')\n",
    "#tv_button = driver.find_element_by_css_selector('c-product-card__wrapper')\n",
    "tv_button.click()"
   ]
  },
  {
   "cell_type": "code",
   "execution_count": null,
   "metadata": {},
   "outputs": [],
   "source": []
  },
  {
   "cell_type": "code",
   "execution_count": null,
   "metadata": {},
   "outputs": [],
   "source": []
  },
  {
   "cell_type": "code",
   "execution_count": null,
   "metadata": {},
   "outputs": [],
   "source": []
  },
  {
   "cell_type": "code",
   "execution_count": null,
   "metadata": {},
   "outputs": [],
   "source": []
  },
  {
   "cell_type": "code",
   "execution_count": null,
   "metadata": {},
   "outputs": [],
   "source": [
    "#EAN CONVERTER para hacer llamadas y  me de el modelo\n",
    "https://www.barcodelookup.com/"
   ]
  },
  {
   "cell_type": "code",
   "execution_count": null,
   "metadata": {},
   "outputs": [],
   "source": []
  },
  {
   "cell_type": "code",
   "execution_count": null,
   "metadata": {},
   "outputs": [],
   "source": [
    "Marca = LG\n",
    "Pantalla = LED\n",
    "Resolucion = UHD 4K\n",
    "Pulgadas = 60-65\n",
    "#PC = https://www.pccomponentes.com/televisores/3840-x-2160-4k-uhd/60-pulgadas/65-pulgadas/led/lg\n",
    "#worten = https://www.worten.es/productos/tv-video-y-sonido/televisores/de-lg?diagonal-de-la-pantalla=65_27__27_%20(165%20cm)&diagonal-de-la-pantalla=60_27__27_%20(152%20cm)&resolucion=4K%20Ultra%20HD&tecnologia-del-fabricante=LED\n",
    "#c4 = https://www.carrefour.es/televisores-tv-lg-4k-uhd-60-a-65-led/N-af9nqsZ1vqnbigZcsc3g2Zn5799uZv2p9zr/c"
   ]
  },
  {
   "cell_type": "code",
   "execution_count": null,
   "metadata": {},
   "outputs": [],
   "source": []
  }
 ],
 "metadata": {
  "kernelspec": {
   "display_name": "Python [conda env:ironhack_env]",
   "language": "python",
   "name": "conda-env-ironhack_env-py"
  },
  "language_info": {
   "codemirror_mode": {
    "name": "ipython",
    "version": 3
   },
   "file_extension": ".py",
   "mimetype": "text/x-python",
   "name": "python",
   "nbconvert_exporter": "python",
   "pygments_lexer": "ipython3",
   "version": "3.7.3"
  }
 },
 "nbformat": 4,
 "nbformat_minor": 4
}
