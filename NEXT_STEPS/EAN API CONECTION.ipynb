{
 "cells": [
  {
   "cell_type": "markdown",
   "metadata": {},
   "source": [
    "## EAN API CONECTION"
   ]
  },
  {
   "cell_type": "markdown",
   "metadata": {},
   "source": [
    "LECTURA DE CSV Y CODIGOS EAN"
   ]
  },
  {
   "cell_type": "code",
   "execution_count": 1,
   "metadata": {},
   "outputs": [],
   "source": [
    "import pandas as pd\n",
    "import numpy as np"
   ]
  },
  {
   "cell_type": "code",
   "execution_count": 2,
   "metadata": {},
   "outputs": [
    {
     "data": {
      "text/html": [
       "<div>\n",
       "<style scoped>\n",
       "    .dataframe tbody tr th:only-of-type {\n",
       "        vertical-align: middle;\n",
       "    }\n",
       "\n",
       "    .dataframe tbody tr th {\n",
       "        vertical-align: top;\n",
       "    }\n",
       "\n",
       "    .dataframe thead th {\n",
       "        text-align: right;\n",
       "    }\n",
       "</style>\n",
       "<table border=\"1\" class=\"dataframe\">\n",
       "  <thead>\n",
       "    <tr style=\"text-align: right;\">\n",
       "      <th></th>\n",
       "      <th>Unnamed: 0</th>\n",
       "      <th>EAN Code</th>\n",
       "      <th>TV Model</th>\n",
       "      <th>PVP</th>\n",
       "      <th>TVs</th>\n",
       "    </tr>\n",
       "  </thead>\n",
       "  <tbody>\n",
       "    <tr>\n",
       "      <th>0</th>\n",
       "      <td>0</td>\n",
       "      <td>8.806098e+12</td>\n",
       "      <td>AN-MR19BA.AEU</td>\n",
       "      <td>24.76</td>\n",
       "      <td>True</td>\n",
       "    </tr>\n",
       "    <tr>\n",
       "      <th>1</th>\n",
       "      <td>1</td>\n",
       "      <td>8.806098e+12</td>\n",
       "      <td>AN-MR19BA.AEU</td>\n",
       "      <td>23.90</td>\n",
       "      <td>True</td>\n",
       "    </tr>\n",
       "    <tr>\n",
       "      <th>2</th>\n",
       "      <td>2</td>\n",
       "      <td>8.806098e+12</td>\n",
       "      <td>AN-MR19BA.AEU</td>\n",
       "      <td>23.90</td>\n",
       "      <td>True</td>\n",
       "    </tr>\n",
       "    <tr>\n",
       "      <th>3</th>\n",
       "      <td>3</td>\n",
       "      <td>8.806098e+12</td>\n",
       "      <td>24TL510S-PZ.AEU</td>\n",
       "      <td>169.11</td>\n",
       "      <td>True</td>\n",
       "    </tr>\n",
       "    <tr>\n",
       "      <th>4</th>\n",
       "      <td>4</td>\n",
       "      <td>8.806098e+12</td>\n",
       "      <td>50UM7600PLB.AEU</td>\n",
       "      <td>389.19</td>\n",
       "      <td>True</td>\n",
       "    </tr>\n",
       "    <tr>\n",
       "      <th>...</th>\n",
       "      <td>...</td>\n",
       "      <td>...</td>\n",
       "      <td>...</td>\n",
       "      <td>...</td>\n",
       "      <td>...</td>\n",
       "    </tr>\n",
       "    <tr>\n",
       "      <th>5226</th>\n",
       "      <td>9449</td>\n",
       "      <td>8.806099e+12</td>\n",
       "      <td>65UM7100PLA.AEU</td>\n",
       "      <td>555.99</td>\n",
       "      <td>True</td>\n",
       "    </tr>\n",
       "    <tr>\n",
       "      <th>5227</th>\n",
       "      <td>9452</td>\n",
       "      <td>8.806099e+12</td>\n",
       "      <td>OLED65GX6LA.AEU</td>\n",
       "      <td>3774.98</td>\n",
       "      <td>True</td>\n",
       "    </tr>\n",
       "    <tr>\n",
       "      <th>5228</th>\n",
       "      <td>9456</td>\n",
       "      <td>8.806098e+12</td>\n",
       "      <td>32LM630BPLA.AEU</td>\n",
       "      <td>198.99</td>\n",
       "      <td>True</td>\n",
       "    </tr>\n",
       "    <tr>\n",
       "      <th>5229</th>\n",
       "      <td>9458</td>\n",
       "      <td>8.806098e+12</td>\n",
       "      <td>PF50KS.AEU</td>\n",
       "      <td>454.97</td>\n",
       "      <td>True</td>\n",
       "    </tr>\n",
       "    <tr>\n",
       "      <th>5230</th>\n",
       "      <td>9463</td>\n",
       "      <td>8.806098e+12</td>\n",
       "      <td>32LM630BPLA.AEU</td>\n",
       "      <td>225.60</td>\n",
       "      <td>True</td>\n",
       "    </tr>\n",
       "  </tbody>\n",
       "</table>\n",
       "<p>5231 rows × 5 columns</p>\n",
       "</div>"
      ],
      "text/plain": [
       "      Unnamed: 0      EAN Code         TV Model      PVP   TVs\n",
       "0              0  8.806098e+12    AN-MR19BA.AEU    24.76  True\n",
       "1              1  8.806098e+12    AN-MR19BA.AEU    23.90  True\n",
       "2              2  8.806098e+12    AN-MR19BA.AEU    23.90  True\n",
       "3              3  8.806098e+12  24TL510S-PZ.AEU   169.11  True\n",
       "4              4  8.806098e+12  50UM7600PLB.AEU   389.19  True\n",
       "...          ...           ...              ...      ...   ...\n",
       "5226        9449  8.806099e+12  65UM7100PLA.AEU   555.99  True\n",
       "5227        9452  8.806099e+12  OLED65GX6LA.AEU  3774.98  True\n",
       "5228        9456  8.806098e+12  32LM630BPLA.AEU   198.99  True\n",
       "5229        9458  8.806098e+12       PF50KS.AEU   454.97  True\n",
       "5230        9463  8.806098e+12  32LM630BPLA.AEU   225.60  True\n",
       "\n",
       "[5231 rows x 5 columns]"
      ]
     },
     "execution_count": 2,
     "metadata": {},
     "output_type": "execute_result"
    }
   ],
   "source": [
    "data = pd.read_csv('../data/LG/TV_Data_OK.csv')\n",
    "data"
   ]
  },
  {
   "cell_type": "code",
   "execution_count": 3,
   "metadata": {},
   "outputs": [],
   "source": [
    "data = data.drop(columns=['Unnamed: 0'])"
   ]
  },
  {
   "cell_type": "code",
   "execution_count": 4,
   "metadata": {},
   "outputs": [
    {
     "data": {
      "text/html": [
       "<div>\n",
       "<style scoped>\n",
       "    .dataframe tbody tr th:only-of-type {\n",
       "        vertical-align: middle;\n",
       "    }\n",
       "\n",
       "    .dataframe tbody tr th {\n",
       "        vertical-align: top;\n",
       "    }\n",
       "\n",
       "    .dataframe thead th {\n",
       "        text-align: right;\n",
       "    }\n",
       "</style>\n",
       "<table border=\"1\" class=\"dataframe\">\n",
       "  <thead>\n",
       "    <tr style=\"text-align: right;\">\n",
       "      <th></th>\n",
       "      <th>EAN Code</th>\n",
       "      <th>TV Model</th>\n",
       "      <th>PVP</th>\n",
       "      <th>TVs</th>\n",
       "    </tr>\n",
       "  </thead>\n",
       "  <tbody>\n",
       "    <tr>\n",
       "      <th>0</th>\n",
       "      <td>8.806098e+12</td>\n",
       "      <td>AN-MR19BA.AEU</td>\n",
       "      <td>24.76</td>\n",
       "      <td>True</td>\n",
       "    </tr>\n",
       "    <tr>\n",
       "      <th>1</th>\n",
       "      <td>8.806098e+12</td>\n",
       "      <td>AN-MR19BA.AEU</td>\n",
       "      <td>23.90</td>\n",
       "      <td>True</td>\n",
       "    </tr>\n",
       "    <tr>\n",
       "      <th>2</th>\n",
       "      <td>8.806098e+12</td>\n",
       "      <td>AN-MR19BA.AEU</td>\n",
       "      <td>23.90</td>\n",
       "      <td>True</td>\n",
       "    </tr>\n",
       "    <tr>\n",
       "      <th>3</th>\n",
       "      <td>8.806098e+12</td>\n",
       "      <td>24TL510S-PZ.AEU</td>\n",
       "      <td>169.11</td>\n",
       "      <td>True</td>\n",
       "    </tr>\n",
       "    <tr>\n",
       "      <th>4</th>\n",
       "      <td>8.806098e+12</td>\n",
       "      <td>50UM7600PLB.AEU</td>\n",
       "      <td>389.19</td>\n",
       "      <td>True</td>\n",
       "    </tr>\n",
       "    <tr>\n",
       "      <th>...</th>\n",
       "      <td>...</td>\n",
       "      <td>...</td>\n",
       "      <td>...</td>\n",
       "      <td>...</td>\n",
       "    </tr>\n",
       "    <tr>\n",
       "      <th>5226</th>\n",
       "      <td>8.806099e+12</td>\n",
       "      <td>65UM7100PLA.AEU</td>\n",
       "      <td>555.99</td>\n",
       "      <td>True</td>\n",
       "    </tr>\n",
       "    <tr>\n",
       "      <th>5227</th>\n",
       "      <td>8.806099e+12</td>\n",
       "      <td>OLED65GX6LA.AEU</td>\n",
       "      <td>3774.98</td>\n",
       "      <td>True</td>\n",
       "    </tr>\n",
       "    <tr>\n",
       "      <th>5228</th>\n",
       "      <td>8.806098e+12</td>\n",
       "      <td>32LM630BPLA.AEU</td>\n",
       "      <td>198.99</td>\n",
       "      <td>True</td>\n",
       "    </tr>\n",
       "    <tr>\n",
       "      <th>5229</th>\n",
       "      <td>8.806098e+12</td>\n",
       "      <td>PF50KS.AEU</td>\n",
       "      <td>454.97</td>\n",
       "      <td>True</td>\n",
       "    </tr>\n",
       "    <tr>\n",
       "      <th>5230</th>\n",
       "      <td>8.806098e+12</td>\n",
       "      <td>32LM630BPLA.AEU</td>\n",
       "      <td>225.60</td>\n",
       "      <td>True</td>\n",
       "    </tr>\n",
       "  </tbody>\n",
       "</table>\n",
       "<p>5231 rows × 4 columns</p>\n",
       "</div>"
      ],
      "text/plain": [
       "          EAN Code         TV Model      PVP   TVs\n",
       "0     8.806098e+12    AN-MR19BA.AEU    24.76  True\n",
       "1     8.806098e+12    AN-MR19BA.AEU    23.90  True\n",
       "2     8.806098e+12    AN-MR19BA.AEU    23.90  True\n",
       "3     8.806098e+12  24TL510S-PZ.AEU   169.11  True\n",
       "4     8.806098e+12  50UM7600PLB.AEU   389.19  True\n",
       "...            ...              ...      ...   ...\n",
       "5226  8.806099e+12  65UM7100PLA.AEU   555.99  True\n",
       "5227  8.806099e+12  OLED65GX6LA.AEU  3774.98  True\n",
       "5228  8.806098e+12  32LM630BPLA.AEU   198.99  True\n",
       "5229  8.806098e+12       PF50KS.AEU   454.97  True\n",
       "5230  8.806098e+12  32LM630BPLA.AEU   225.60  True\n",
       "\n",
       "[5231 rows x 4 columns]"
      ]
     },
     "execution_count": 4,
     "metadata": {},
     "output_type": "execute_result"
    }
   ],
   "source": [
    "data"
   ]
  },
  {
   "cell_type": "code",
   "execution_count": 5,
   "metadata": {},
   "outputs": [],
   "source": [
    "lst = data['EAN Code'].to_list()"
   ]
  },
  {
   "cell_type": "code",
   "execution_count": null,
   "metadata": {},
   "outputs": [],
   "source": [
    "#pasarlo a integer para quitar decimales\n",
    "lst(int)[5]"
   ]
  },
  {
   "cell_type": "markdown",
   "metadata": {},
   "source": [
    "SEARCH BY EAN CODE"
   ]
  },
  {
   "cell_type": "code",
   "execution_count": 6,
   "metadata": {},
   "outputs": [],
   "source": [
    "from eansearch import EANSearch"
   ]
  },
  {
   "cell_type": "code",
   "execution_count": 7,
   "metadata": {},
   "outputs": [],
   "source": [
    "ean = \"8806098679850\"\n",
    "apiToken = \"410ed2cd7907160cdf361e89e628263cf0ba6c0b5bae877df9\""
   ]
  },
  {
   "cell_type": "code",
   "execution_count": 8,
   "metadata": {},
   "outputs": [],
   "source": [
    "lookup = EANSearch(apiToken)"
   ]
  },
  {
   "cell_type": "code",
   "execution_count": 12,
   "metadata": {},
   "outputs": [
    {
     "name": "stdout",
     "output_type": "stream",
     "text": [
      "Product with EAN Nº: 8806098679850 is:  LG 55UN81006LB\n",
      "Product with EAN Nº: 8806098679850 is:  LG 55UN81006LB\n",
      "Product with EAN Nº: 8806098679850 is:  LG 55UN81006LB\n",
      "Product with EAN Nº: 8806098679850 is:  LG 55UN81006LB\n",
      "Product with EAN Nº: 8806098679850 is:  LG 55UN81006LB\n",
      "Product with EAN Nº: 8806098679850 is:  LG 55UN81006LB\n",
      "Product with EAN Nº: 8806098679850 is:  LG 55UN81006LB\n",
      "Product with EAN Nº: 8806098679850 is:  LG 55UN81006LB\n"
     ]
    }
   ],
   "source": [
    "name = lookup.barcodeLookup(ean)\n",
    "for barcode in eanList:\n",
    "    print(\"Product with EAN Nº:\", ean, \"is: \", name)"
   ]
  },
  {
   "cell_type": "markdown",
   "metadata": {},
   "source": [
    "SEARCH BY PRODUCT NAME"
   ]
  },
  {
   "cell_type": "code",
   "execution_count": 14,
   "metadata": {},
   "outputs": [
    {
     "name": "stdout",
     "output_type": "stream",
     "text": [
      "8806098679898  is  b'LG 55UN81006LB.API Light Black Pearl'\n",
      "8806098679850  is  b'LG 55UN81006LB'\n",
      "8806098679850  is  b'LG Electronics LG 55UN81006LB'\n",
      "8806098680429  is  b'LG 55UN81006LB'\n",
      "8806098679850  is  b'LG 55UN81006LB Ultra HD HDR LED-TV 55 (139 cm'\n",
      "8806098760220  is  b'LG 55UN81006LB'\n",
      "8806098679898  is  b'LG 55UN81006LB.API'\n",
      "8806098679850  is  b'LG Electronics LG 55UN81006LB'\n",
      "8806098679850  is  b'LG 55UN81006 - 4K HDR LED Smart TV (55 inch)'\n",
      "8806098679850  is  b\"Tv led 55'' lg 55un81006 ia 4k uhd hdr smart tv\"\n"
     ]
    }
   ],
   "source": [
    "eansearch = EANSearch(apiToken)\n",
    "eanList = eansearch.productSearch('55UN81006LB');\n",
    "for product in eanList:\n",
    "\tprint(product[\"ean\"], \" is \", product[\"name\"].encode(\"utf-8\"))"
   ]
  },
  {
   "cell_type": "markdown",
   "metadata": {},
   "source": [
    "try to go through the file"
   ]
  },
  {
   "cell_type": "code",
   "execution_count": null,
   "metadata": {},
   "outputs": [],
   "source": []
  }
 ],
 "metadata": {
  "kernelspec": {
   "display_name": "Python [conda env:ironhack_env]",
   "language": "python",
   "name": "conda-env-ironhack_env-py"
  },
  "language_info": {
   "codemirror_mode": {
    "name": "ipython",
    "version": 3
   },
   "file_extension": ".py",
   "mimetype": "text/x-python",
   "name": "python",
   "nbconvert_exporter": "python",
   "pygments_lexer": "ipython3",
   "version": "3.7.3"
  }
 },
 "nbformat": 4,
 "nbformat_minor": 4
}
