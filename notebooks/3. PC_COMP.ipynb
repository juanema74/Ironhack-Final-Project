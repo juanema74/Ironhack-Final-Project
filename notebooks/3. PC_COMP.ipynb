{
 "cells": [
  {
   "cell_type": "markdown",
   "metadata": {},
   "source": [
    "## LG SCRPAING DATASET"
   ]
  },
  {
   "cell_type": "code",
   "execution_count": 1,
   "metadata": {},
   "outputs": [],
   "source": [
    "import numpy as np\n",
    "import pandas as pd"
   ]
  },
  {
   "cell_type": "code",
   "execution_count": 2,
   "metadata": {},
   "outputs": [],
   "source": [
    "df_0310 = pd.read_csv('../data/pc_comp_scrap/LG/pc_comp_0310_LG_OK.csv')\n",
    "df_0510 = pd.read_csv('../data/pc_comp_scrap/LG/pc_comp_0510_LG_OK.csv')\n",
    "df_0710 = pd.read_csv('../data/pc_comp_scrap/LG/pc_comp_0710_LG_OK.csv')\n",
    "df_0810 = pd.read_csv('../data/pc_comp_scrap/LG/pc_comp_0810_LG.csv')\n",
    "df_1010 = pd.read_csv('../data/pc_comp_scrap/LG/pc_comp_1010_LG.csv')\n",
    "df_1110 = pd.read_csv('../data/pc_comp_scrap/LG/pc_comp_1110_LG.csv')\n",
    "df_1310 = pd.read_csv('../data/pc_comp_scrap/LG/pc_comp_1310_LG.csv')\n",
    "df_1410 = pd.read_csv('../data/pc_comp_scrap/LG/pc_comp_1410_LG.csv')\n",
    "df_1510 = pd.read_csv('../data/pc_comp_scrap/LG/pc_comp_1510_LG.csv')\n",
    "df_1610 = pd.read_csv('../data/pc_comp_scrap/LG/pc_comp_1610_LG.csv')\n",
    "df_1710 = pd.read_csv('../data/pc_comp_scrap/LG/pc_comp_1710_LG.csv')\n",
    "df_1910 = pd.read_csv('../data/pc_comp_scrap/LG/pc_comp_1910_LG.csv')\n",
    "df_2010 = pd.read_csv('../data/pc_comp_scrap/LG/pc_comp_2010_LG.csv')\n",
    "df_2110 = pd.read_csv('../data/pc_comp_scrap/LG/pc_comp_2110_LG.csv')\n",
    "df_2210 = pd.read_csv('../data/pc_comp_scrap/LG/pc_comp_2210_LG.csv')\n",
    "df_2310 = pd.read_csv('../data/pc_comp_scrap/LG/pc_comp_2310_LG.csv')\n",
    "df_2410 = pd.read_csv('../data/pc_comp_scrap/LG/pc_comp_2410_LG.csv')\n",
    "df_2510 = pd.read_csv('../data/pc_comp_scrap/LG/pc_comp_2510_LG.csv')\n",
    "df_2610 = pd.read_csv('../data/pc_comp_scrap/LG/pc_comp_2610_LG.csv')\n",
    "df_2710 = pd.read_csv('../data/pc_comp_scrap/LG/pc_comp_2710_LG.csv')\n",
    "df_2810 = pd.read_csv('../data/pc_comp_scrap/LG/pc_comp_2810_LG.csv')\n",
    "df_0111 = pd.read_csv('../data/pc_comp_scrap/LG/pc_comp_0111_LG.csv')\n",
    "df_0211 = pd.read_csv('../data/pc_comp_scrap/LG/pc_comp_0211_LG.csv')\n",
    "df_0311 = pd.read_csv('../data/pc_comp_scrap/LG/pc_comp_0311_LG.csv')\n",
    "df_0411 = pd.read_csv('../data/pc_comp_scrap/LG/pc_comp_0411_LG.csv')\n",
    "#df_0511 = pd.read_csv('../data/pc_comp_scrap/LG/pc_comp_0511_LG.csv')\n",
    "#df_0611 = pd.read_csv('../data/pc_comp_scrap/LG/pc_comp_0611_LG.csv')\n",
    "#df_0711 = pd.read_csv('../data/pc_comp_scrap/LG/pc_comp_0711_LG.csv')\n",
    "#df_0811 = pd.read_csv('../data/pc_comp_scrap/LG/pc_comp_0811_LG.csv')"
   ]
  },
  {
   "cell_type": "code",
   "execution_count": 3,
   "metadata": {},
   "outputs": [],
   "source": [
    "df_0310['day']=1\n",
    "df_0510['day']=2\n",
    "df_0710['day']=3\n",
    "df_0810['day']=4\n",
    "df_1010['day']=5\n",
    "df_1110['day']=6\n",
    "df_1310['day']=7\n",
    "df_1410['day']=8\n",
    "df_1510['day']=9\n",
    "df_1610['day']=10\n",
    "df_1710['day']=11\n",
    "df_1910['day']=12\n",
    "df_2010['day']=13\n",
    "df_2110['day']=14\n",
    "df_2210['day']=15\n",
    "df_2310['day']=16\n",
    "df_2410['day']=17\n",
    "df_2510['day']=18\n",
    "df_2610['day']=19\n",
    "df_2710['day']=20\n",
    "df_2810['day']=21\n",
    "df_0111['day']=22\n",
    "df_0211['day']=23\n",
    "df_0311['day']=24\n",
    "df_0411['day']=25\n",
    "#df_0511['day']=26\n",
    "#df_0611['day']=27\n",
    "#df_0711['day']=28\n",
    "#df_0811['day']=29"
   ]
  },
  {
   "cell_type": "code",
   "execution_count": 4,
   "metadata": {},
   "outputs": [],
   "source": [
    "df = pd.concat([df_0310,df_0510,df_0710,df_0810,df_1010,df_1110,\n",
    "                              df_1310,df_1410,df_1510,df_1610,df_1710, df_1910, df_2010, df_2110, df_2210,\n",
    "               df_2310, df_2410, df_2510, df_2610, df_2710, df_2810, df_0111, df_0211, df_0311, df_0411])"
   ]
  },
  {
   "cell_type": "code",
   "execution_count": 5,
   "metadata": {},
   "outputs": [],
   "source": [
    "df['Price'] = df['Price'].str.replace(\"€\", \"-\")\n",
    "df['Price'] = df['Price'].str.replace(\",\", \".\")\n",
    "df['Price'] = df['Price'].map(lambda x: str(x)[:-1])\n",
    "df['TVs'] = df['Price'].str.contains('-')\n",
    "df.drop(df[df['TVs'] == True].index, inplace=True)\n",
    "df = df.rename(columns={'Price':'Price €'})\n"
   ]
  },
  {
   "cell_type": "code",
   "execution_count": 6,
   "metadata": {},
   "outputs": [],
   "source": [
    "PC_LG = pd.DataFrame(df)\n",
    "PC_LG = PC_LG.drop(columns=['Unnamed: 0','TVs'])\n",
    "pd.to_numeric(PC_LG['Price €'])\n",
    "PC_LG.to_csv('../data/pc_comp_scrap/LG/PC_LG.csv', index=False)"
   ]
  },
  {
   "cell_type": "code",
   "execution_count": 7,
   "metadata": {},
   "outputs": [],
   "source": [
    "PC_LG = pd.read_csv('../data/pc_comp_scrap/LG/PC_LG.csv')"
   ]
  },
  {
   "cell_type": "code",
   "execution_count": 8,
   "metadata": {},
   "outputs": [],
   "source": [
    "PC_LG = pd.pivot_table(PC_LG, values='Price €', index=['Model'],\n",
    "                      columns=['day'])"
   ]
  },
  {
   "cell_type": "code",
   "execution_count": 9,
   "metadata": {},
   "outputs": [],
   "source": [
    "PC_LG.to_csv('../data/pc_comp_scrap/LG/PC_LG_SCRAP.csv', index=True)"
   ]
  },
  {
   "cell_type": "code",
   "execution_count": 10,
   "metadata": {},
   "outputs": [],
   "source": [
    "PC_LG_SCRAP = pd.read_csv('../data/pc_comp_scrap/LG/PC_LG_SCRAP.csv')"
   ]
  },
  {
   "cell_type": "markdown",
   "metadata": {},
   "source": [
    "# SAMSUNG SCRAPING DATASET"
   ]
  },
  {
   "cell_type": "code",
   "execution_count": 11,
   "metadata": {},
   "outputs": [],
   "source": [
    "SS_0310 = pd.read_csv('../data/pc_comp_scrap/SS/pc_comp_0310_SS_OK.csv')\n",
    "SS_0510 = pd.read_csv('../data/pc_comp_scrap/SS/pc_comp_0510_SS_OK.csv')\n",
    "SS_0710 = pd.read_csv('../data/pc_comp_scrap/SS/pc_comp_0710_SS.csv')\n",
    "SS_0810 = pd.read_csv('../data/pc_comp_scrap/SS/pc_comp_0810_SS.csv')\n",
    "SS_1010 = pd.read_csv('../data/pc_comp_scrap/SS/pc_comp_1010_SS.csv')\n",
    "SS_1110 = pd.read_csv('../data/pc_comp_scrap/SS/pc_comp_1110_SS.csv')\n",
    "SS_1310 = pd.read_csv('../data/pc_comp_scrap/SS/pc_comp_1310_SS.csv')\n",
    "SS_1410 = pd.read_csv('../data/pc_comp_scrap/SS/pc_comp_1410_SS.csv')\n",
    "SS_1510 = pd.read_csv('../data/pc_comp_scrap/SS/pc_comp_1510_SS.csv')\n",
    "SS_1610 = pd.read_csv('../data/pc_comp_scrap/SS/pc_comp_1610_SS.csv')\n",
    "SS_1710 = pd.read_csv('../data/pc_comp_scrap/SS/pc_comp_1710_SS.csv')\n",
    "SS_1910 = pd.read_csv('../data/pc_comp_scrap/SS/pc_comp_1910_SS.csv')\n",
    "SS_2010 = pd.read_csv('../data/pc_comp_scrap/SS/pc_comp_2010_SS.csv')\n",
    "SS_2110 = pd.read_csv('../data/pc_comp_scrap/SS/pc_comp_2110_SS.csv')\n",
    "SS_2210 = pd.read_csv('../data/pc_comp_scrap/SS/pc_comp_2210_SS.csv')\n",
    "SS_2310 = pd.read_csv('../data/pc_comp_scrap/SS/pc_comp_2310_SS.csv')\n",
    "SS_2410 = pd.read_csv('../data/pc_comp_scrap/SS/pc_comp_2410_SS.csv')\n",
    "SS_2510 = pd.read_csv('../data/pc_comp_scrap/SS/pc_comp_2510_SS.csv')\n",
    "SS_2610 = pd.read_csv('../data/pc_comp_scrap/SS/pc_comp_2610_SS.csv')\n",
    "SS_2710 = pd.read_csv('../data/pc_comp_scrap/SS/pc_comp_2710_SS.csv')\n",
    "SS_2810 = pd.read_csv('../data/pc_comp_scrap/SS/pc_comp_2810_SS.csv')\n",
    "SS_0111 = pd.read_csv('../data/pc_comp_scrap/SS/pc_comp_0111_SS.csv')\n",
    "SS_0211 = pd.read_csv('../data/pc_comp_scrap/SS/pc_comp_0211_SS.csv')\n",
    "SS_0311 = pd.read_csv('../data/pc_comp_scrap/SS/pc_comp_0311_SS.csv')\n",
    "SS_0411 = pd.read_csv('../data/pc_comp_scrap/SS/pc_comp_0411_SS.csv')\n",
    "#SS_0511 = pd.read_csv('../data/pc_comp_scrap/SS/pc_comp_0511_SS.csv')\n",
    "#SS_0611 = pd.read_csv('../data/pc_comp_scrap/SS/pc_comp_0611_SS.csv')\n",
    "#SS_0711 = pd.read_csv('../data/pc_comp_scrap/SS/pc_comp_0711_SS.csv')\n",
    "#SS_0811 = pd.read_csv('../data/pc_comp_scrap/SS/pc_comp_0811_SS.csv')\n",
    "#SS_0911 = pd.read_csv('../data/pc_comp_scrap/SS/pc_comp_0911_SS.csv')"
   ]
  },
  {
   "cell_type": "code",
   "execution_count": 12,
   "metadata": {},
   "outputs": [],
   "source": [
    "SS_0310['day']=1\n",
    "SS_0510['day']=2\n",
    "SS_0710['day']=3\n",
    "SS_0810['day']=4\n",
    "SS_1010['day']=5\n",
    "SS_1110['day']=6\n",
    "SS_1310['day']=7\n",
    "SS_1410['day']=8\n",
    "SS_1510['day']=9\n",
    "SS_1610['day']=10\n",
    "SS_1710['day']=11\n",
    "SS_1910['day']=12\n",
    "SS_2010['day']=13\n",
    "SS_2110['day']=14\n",
    "SS_2210['day']=15\n",
    "SS_2310['day']=16\n",
    "SS_2410['day']=17\n",
    "SS_2510['day']=18\n",
    "SS_2610['day']=19\n",
    "SS_2710['day']=20\n",
    "SS_2810['day']=21\n",
    "SS_0111['day']=22\n",
    "SS_0211['day']=23\n",
    "SS_0311['day']=24\n",
    "SS_0411['day']=25\n",
    "#SS_0511['day']=26\n",
    "#SS_0611['day']=27\n",
    "#SS_0711['day']=28\n",
    "#SS_0811['day']=29"
   ]
  },
  {
   "cell_type": "code",
   "execution_count": 13,
   "metadata": {},
   "outputs": [],
   "source": [
    "df_SS = pd.concat([SS_0310,SS_0510,SS_0710,SS_0810,SS_1010,SS_1110,\n",
    "                              SS_1310,SS_1410,SS_1510,SS_1610,SS_1710, SS_1910, SS_2010, SS_2110,SS_2210,\n",
    "                  SS_2310, SS_2410, SS_2510, SS_2610, SS_2710, SS_2810, SS_0111, SS_0211, SS_0311, SS_0411])"
   ]
  },
  {
   "cell_type": "code",
   "execution_count": 14,
   "metadata": {},
   "outputs": [],
   "source": [
    "df_SS['Price'] = df_SS['Price'].str.replace(\"€\", \"-\")\n",
    "df_SS['Price'] = df_SS['Price'].str.replace(\",\", \".\")\n",
    "df_SS['Price'] = df_SS['Price'].map(lambda x: str(x)[:-1])\n",
    "df_SS['TVs'] = df_SS['Price'].str.contains('-')\n",
    "df_SS.drop(df_SS[df_SS['TVs'] == True].index, inplace=True)\n",
    "df_SS = df_SS.rename(columns={'Price':'Price €'})"
   ]
  },
  {
   "cell_type": "code",
   "execution_count": 15,
   "metadata": {},
   "outputs": [],
   "source": [
    "PC_SS = pd.DataFrame(df_SS)\n",
    "PC_SS = PC_SS.drop(columns=['Unnamed: 0','TVs'])\n",
    "pd.to_numeric(PC_SS['Price €'])\n",
    "PC_SS.to_csv('../data/pc_comp_scrap/SS/PC_SS.csv', index=False)"
   ]
  },
  {
   "cell_type": "code",
   "execution_count": 16,
   "metadata": {},
   "outputs": [],
   "source": [
    "PC_SS = pd.read_csv('../data/pc_comp_scrap/SS/PC_SS.csv')"
   ]
  },
  {
   "cell_type": "code",
   "execution_count": 17,
   "metadata": {},
   "outputs": [],
   "source": [
    "PC_SS = pd.pivot_table(PC_SS, values='Price €', index=['Model'],\n",
    "                      columns=['day'])"
   ]
  },
  {
   "cell_type": "code",
   "execution_count": 18,
   "metadata": {},
   "outputs": [],
   "source": [
    "PC_SS.to_csv('../data/pc_comp_scrap/SS/PC_SS_SCRAP.csv')"
   ]
  },
  {
   "cell_type": "code",
   "execution_count": 19,
   "metadata": {},
   "outputs": [],
   "source": [
    "PC_SS_SCRAP = pd.read_csv('../data/pc_comp_scrap/SS/PC_SS_SCRAP.csv')"
   ]
  },
  {
   "cell_type": "code",
   "execution_count": 20,
   "metadata": {},
   "outputs": [],
   "source": [
    "PC_concat = pd.concat([PC_LG_SCRAP, PC_SS_SCRAP])"
   ]
  },
  {
   "cell_type": "code",
   "execution_count": 21,
   "metadata": {},
   "outputs": [],
   "source": [
    "PC_concat.fillna(PC_concat.median(axis=0), inplace=True)"
   ]
  },
  {
   "cell_type": "code",
   "execution_count": 22,
   "metadata": {},
   "outputs": [],
   "source": [
    "PC_concat.to_csv('../data/pc_comp_scrap/PC_COMP_CONCAT.csv')"
   ]
  },
  {
   "cell_type": "code",
   "execution_count": null,
   "metadata": {},
   "outputs": [],
   "source": []
  }
 ],
 "metadata": {
  "kernelspec": {
   "display_name": "Python [conda env:ironhack_env]",
   "language": "python",
   "name": "conda-env-ironhack_env-py"
  },
  "language_info": {
   "codemirror_mode": {
    "name": "ipython",
    "version": 3
   },
   "file_extension": ".py",
   "mimetype": "text/x-python",
   "name": "python",
   "nbconvert_exporter": "python",
   "pygments_lexer": "ipython3",
   "version": "3.7.3"
  }
 },
 "nbformat": 4,
 "nbformat_minor": 4
}
