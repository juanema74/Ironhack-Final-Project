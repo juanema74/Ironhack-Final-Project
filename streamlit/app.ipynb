{
 "cells": [
  {
   "cell_type": "code",
   "execution_count": 1,
   "metadata": {},
   "outputs": [],
   "source": [
    "import pandas as pd\n",
    "import numpy as np\n",
    "import streamlit as st\n",
    "import plotly.graph_objects as go\n",
    "from plotly import tools\n",
    "import plotly.offline as py\n",
    "import plotly.express as px\n",
    "import cufflinks as cf\n",
    "from plotly.offline import plot\n",
    "import chart_studio.plotly as py"
   ]
  },
  {
   "cell_type": "code",
   "execution_count": 2,
   "metadata": {},
   "outputs": [
    {
     "data": {
      "text/html": [
       "        <script type=\"text/javascript\">\n",
       "        window.PlotlyConfig = {MathJaxConfig: 'local'};\n",
       "        if (window.MathJax) {MathJax.Hub.Config({SVG: {font: \"STIX-Web\"}});}\n",
       "        if (typeof require !== 'undefined') {\n",
       "        require.undef(\"plotly\");\n",
       "        requirejs.config({\n",
       "            paths: {\n",
       "                'plotly': ['https://cdn.plot.ly/plotly-latest.min']\n",
       "            }\n",
       "        });\n",
       "        require(['plotly'], function(Plotly) {\n",
       "            window._Plotly = Plotly;\n",
       "        });\n",
       "        }\n",
       "        </script>\n",
       "        "
      ]
     },
     "metadata": {},
     "output_type": "display_data"
    }
   ],
   "source": [
    "cf.go_offline()"
   ]
  },
  {
   "cell_type": "code",
   "execution_count": 3,
   "metadata": {},
   "outputs": [],
   "source": [
    "df = pd.read_csv('../notebooks/summary.csv')\n",
    "pc = pd.read_csv('../notebooks/pc_comp_scrap/pc.csv')\n",
    "worten = pd.read_csv('../notebooks/worten_scrap/worten.csv')"
   ]
  },
  {
   "cell_type": "code",
   "execution_count": null,
   "metadata": {},
   "outputs": [],
   "source": []
  },
  {
   "cell_type": "code",
   "execution_count": 4,
   "metadata": {},
   "outputs": [
    {
     "data": {
      "text/plain": [
       "<streamlit.delta_generator.DeltaGenerator at 0x7fe4a7027ac8>"
      ]
     },
     "execution_count": 4,
     "metadata": {},
     "output_type": "execute_result"
    }
   ],
   "source": [
    "st.title(\"** :desktop_computer:** **TV Marketplace Price Evolution** **:desktop_computer:**\")\n",
    "st.header(\"This is an App created to visualize the price Evolution of Ultra HD 4K TVs in 2  Manufactures: LG and Samsung, in 2 different marketplaces: Pc Componentes and Worten.\")\n",
    "st.subheader(\"The Dashboards will show Price evolution since October 3rd.\")"
   ]
  },
  {
   "cell_type": "code",
   "execution_count": 5,
   "metadata": {},
   "outputs": [],
   "source": [
    "image = ('/Users/juandediegosuanzes/desktop/Ironhack-Final-Project/streamlit/samsung_vs_lg_')"
   ]
  },
  {
   "cell_type": "code",
   "execution_count": 6,
   "metadata": {},
   "outputs": [
    {
     "data": {
      "text/plain": [
       "<streamlit.delta_generator.DeltaGenerator at 0x7fe4a7027ac8>"
      ]
     },
     "execution_count": 6,
     "metadata": {},
     "output_type": "execute_result"
    }
   ],
   "source": [
    "st.image(image, width=None)"
   ]
  },
  {
   "cell_type": "code",
   "execution_count": 7,
   "metadata": {},
   "outputs": [],
   "source": [
    "pc_ok = pc[['PC LG', 'PC SS']]\n",
    "worten_ok = worten[['Worten LG', 'Worten SS']]\n",
    "df_ok = df[['PC LG', 'PC SS', 'Worten LG', 'Worten SS']]"
   ]
  },
  {
   "cell_type": "code",
   "execution_count": 8,
   "metadata": {},
   "outputs": [
    {
     "data": {
      "text/plain": [
       "<streamlit.delta_generator.DeltaGenerator at 0x7fe4a7027ac8>"
      ]
     },
     "execution_count": 8,
     "metadata": {},
     "output_type": "execute_result"
    }
   ],
   "source": [
    "st.markdown(\"#### \" +\"Pc Componentes & Worten Price Evolution in LG and Samsung\")"
   ]
  },
  {
   "cell_type": "code",
   "execution_count": 9,
   "metadata": {},
   "outputs": [
    {
     "data": {
      "text/plain": [
       "<streamlit.delta_generator.DeltaGenerator at 0x7fe4a7027ac8>"
      ]
     },
     "execution_count": 9,
     "metadata": {},
     "output_type": "execute_result"
    }
   ],
   "source": [
    "st.line_chart(data=df_ok, width=0, height=0, use_container_width=True)"
   ]
  },
  {
   "cell_type": "code",
   "execution_count": 10,
   "metadata": {},
   "outputs": [],
   "source": [
    "st.markdown(\"#### \" +\"Select the manufacturer and the marketplace you would like to see the metrics in detail\")\n",
    "\n",
    "selected_metrics = st.selectbox(\n",
    "    label=\"Choose...\", options=['PC LG','PC SS','Worten LG','Worten SS']\n",
    ")"
   ]
  },
  {
   "cell_type": "code",
   "execution_count": 11,
   "metadata": {},
   "outputs": [
    {
     "data": {
      "text/plain": [
       "<streamlit.delta_generator.DeltaGenerator at 0x7fe4a7027ac8>"
      ]
     },
     "execution_count": 11,
     "metadata": {},
     "output_type": "execute_result"
    }
   ],
   "source": [
    "fig = go.Figure()\n",
    "if selected_metrics == 'PC LG':\n",
    "\tfig.add_trace(go.Scatter(x=df.day, y=df['PC LG'],\n",
    "                    mode='lines+markers', name='PC LG'))\n",
    "if selected_metrics == 'PC SS':\n",
    "\tfig.add_trace(go.Scatter(x=df.day, y=df['PC SS'],\n",
    "\t                    mode='lines+markers', name='PC SS'))\n",
    "if selected_metrics == 'Worten LG':\n",
    "\tfig.add_trace(go.Scatter(x=df.day, y=df['Worten LG'],\n",
    "\t                    mode='lines+markers',name='Worten LG'))\n",
    "if selected_metrics == 'Worten SS':\n",
    "\tfig.add_trace(go.Scatter(x=df.day, y=df['Worten SS'],\n",
    "\t                    mode='lines+markers',name='Worten SS'))\n",
    "st.plotly_chart(fig, use_container_width=True)"
   ]
  },
  {
   "cell_type": "code",
   "execution_count": 12,
   "metadata": {},
   "outputs": [],
   "source": [
    "if st.checkbox('Show dataframe'):\n",
    "    st.dataframe(df.style.highlight_max(axis=0))"
   ]
  },
  {
   "cell_type": "code",
   "execution_count": 13,
   "metadata": {},
   "outputs": [
    {
     "data": {
      "text/plain": [
       "<streamlit.delta_generator.DeltaGenerator at 0x7fe4a7027ac8>"
      ]
     },
     "execution_count": 13,
     "metadata": {},
     "output_type": "execute_result"
    }
   ],
   "source": [
    "st.markdown(\"#### \" +\"Pc Componentes Price Evolution by Manufacturer\")"
   ]
  },
  {
   "cell_type": "code",
   "execution_count": 14,
   "metadata": {},
   "outputs": [],
   "source": [
    "image_pc = ('/Users/juandediegosuanzes/desktop/Ironhack-Final-Project/streamlit/PcComponentes.png')"
   ]
  },
  {
   "cell_type": "code",
   "execution_count": 15,
   "metadata": {},
   "outputs": [
    {
     "data": {
      "text/plain": [
       "<streamlit.delta_generator.DeltaGenerator at 0x7fe4a7027ac8>"
      ]
     },
     "execution_count": 15,
     "metadata": {},
     "output_type": "execute_result"
    }
   ],
   "source": [
    "st.image(image_pc, width=None)"
   ]
  },
  {
   "cell_type": "code",
   "execution_count": 16,
   "metadata": {},
   "outputs": [
    {
     "data": {
      "text/plain": [
       "<streamlit.delta_generator.DeltaGenerator at 0x7fe4a7027ac8>"
      ]
     },
     "execution_count": 16,
     "metadata": {},
     "output_type": "execute_result"
    }
   ],
   "source": [
    "st.area_chart(data=pc_ok, width=0, height=0, use_container_width=True)"
   ]
  },
  {
   "cell_type": "code",
   "execution_count": 17,
   "metadata": {},
   "outputs": [],
   "source": [
    "if st.checkbox('Show PC Componentes dataframe'):\n",
    "    st.dataframe(pc.style.highlight_max(axis=0))"
   ]
  },
  {
   "cell_type": "code",
   "execution_count": 18,
   "metadata": {},
   "outputs": [
    {
     "data": {
      "text/plain": [
       "<streamlit.delta_generator.DeltaGenerator at 0x7fe4a7027ac8>"
      ]
     },
     "execution_count": 18,
     "metadata": {},
     "output_type": "execute_result"
    }
   ],
   "source": [
    "st.markdown(\"#### \" +\"Worten Price Evolution by Manufacturer\")"
   ]
  },
  {
   "cell_type": "code",
   "execution_count": 19,
   "metadata": {},
   "outputs": [],
   "source": [
    "image_worten = ('/Users/juandediegosuanzes/desktop/Ironhack-Final-Project/streamlit/worten_im.webp')"
   ]
  },
  {
   "cell_type": "code",
   "execution_count": 20,
   "metadata": {},
   "outputs": [
    {
     "data": {
      "text/plain": [
       "<streamlit.delta_generator.DeltaGenerator at 0x7fe4a7027ac8>"
      ]
     },
     "execution_count": 20,
     "metadata": {},
     "output_type": "execute_result"
    }
   ],
   "source": [
    "st.image(image_worten, width=None)"
   ]
  },
  {
   "cell_type": "code",
   "execution_count": 21,
   "metadata": {},
   "outputs": [
    {
     "data": {
      "text/plain": [
       "<streamlit.delta_generator.DeltaGenerator at 0x7fe4a7027ac8>"
      ]
     },
     "execution_count": 21,
     "metadata": {},
     "output_type": "execute_result"
    }
   ],
   "source": [
    "st.area_chart(data=worten_ok, width=0, height=0, use_container_width=True)"
   ]
  },
  {
   "cell_type": "code",
   "execution_count": 22,
   "metadata": {},
   "outputs": [],
   "source": [
    "if st.checkbox('Show Worten dataframe'):\n",
    "    st.dataframe(worten.style.highlight_max(axis=0))"
   ]
  },
  {
   "cell_type": "code",
   "execution_count": 23,
   "metadata": {},
   "outputs": [],
   "source": [
    "#st.title(\"** :champagne:** **¡¡GRACIAS A TODOS!!: Lead Teachers, TA y enhorabuena compañeros!!** **:champagne:**\")"
   ]
  },
  {
   "cell_type": "code",
   "execution_count": 24,
   "metadata": {},
   "outputs": [],
   "source": [
    "#video_file = open('/Users/juandediegosuanzes/desktop/video.mp4', 'rb')\n",
    "#video_bytes = video_file.read()\n",
    "#st.video(video_bytes)"
   ]
  },
  {
   "cell_type": "code",
   "execution_count": 25,
   "metadata": {},
   "outputs": [],
   "source": [
    "#audio_file = open('/Users/juandediegosuanzes/desktop/champ.mp3', 'rb')\n",
    "#audio_bytes = audio_file.read()\n",
    "#st.audio(audio_bytes, format='audio/ogg', start_time=34)"
   ]
  },
  {
   "cell_type": "code",
   "execution_count": 26,
   "metadata": {},
   "outputs": [],
   "source": [
    "#fig = df.iplot(kind='box', \n",
    "#                       histnorm='percent', \n",
    " #                      xTitle='October Scraping', \n",
    "  #                     yTitle='Price €', \n",
    "   #                    title='Summary Price by Brand and Marketplace',\n",
    "    #                   subplots=True)\n",
    "\n",
    "#st.pyplot(fig)"
   ]
  },
  {
   "cell_type": "code",
   "execution_count": null,
   "metadata": {},
   "outputs": [],
   "source": []
  }
 ],
 "metadata": {
  "kernelspec": {
   "display_name": "Python [conda env:ironhack_env]",
   "language": "python",
   "name": "conda-env-ironhack_env-py"
  },
  "language_info": {
   "codemirror_mode": {
    "name": "ipython",
    "version": 3
   },
   "file_extension": ".py",
   "mimetype": "text/x-python",
   "name": "python",
   "nbconvert_exporter": "python",
   "pygments_lexer": "ipython3",
   "version": "3.7.3"
  }
 },
 "nbformat": 4,
 "nbformat_minor": 4
}
